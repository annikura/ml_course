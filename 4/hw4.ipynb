{
 "cells": [
  {
   "cell_type": "code",
   "execution_count": 1,
   "metadata": {},
   "outputs": [
    {
     "data": {
      "text/html": [
       "<script type=\"text/javascript\">window.PlotlyConfig = {MathJaxConfig: 'local'};</script><script type=\"text/javascript\">if (window.MathJax) {MathJax.Hub.Config({SVG: {font: \"STIX-Web\"}});}</script><script>requirejs.config({paths: { 'plotly': ['https://cdn.plot.ly/plotly-latest.min']},});if(!window._Plotly) {require(['plotly'],function(plotly) {window._Plotly=plotly;});}</script>"
      ],
      "text/vnd.plotly.v1+html": [
       "<script type=\"text/javascript\">window.PlotlyConfig = {MathJaxConfig: 'local'};</script><script type=\"text/javascript\">if (window.MathJax) {MathJax.Hub.Config({SVG: {font: \"STIX-Web\"}});}</script><script>requirejs.config({paths: { 'plotly': ['https://cdn.plot.ly/plotly-latest.min']},});if(!window._Plotly) {require(['plotly'],function(plotly) {window._Plotly=plotly;});}</script>"
      ]
     },
     "metadata": {},
     "output_type": "display_data"
    }
   ],
   "source": [
    "import pandas as pd\n",
    "import plotly\n",
    "from matplotlib import pyplot as plt\n",
    "import sklearn\n",
    "import math\n",
    "import plotly.plotly as py\n",
    "from plotly.offline import init_notebook_mode\n",
    "import plotly.graph_objs as go\n",
    "\n",
    "from sklearn import svm\n",
    "from sklearn.ensemble import RandomForestClassifier\n",
    "from sklearn.preprocessing import StandardScaler\n",
    "\n",
    "\n",
    "from scipy.special import softmax\n",
    "\n",
    "import numpy as np\n",
    "\n",
    "init_notebook_mode(connected=True)"
   ]
  },
  {
   "cell_type": "code",
   "execution_count": 2,
   "metadata": {},
   "outputs": [],
   "source": [
    "def split_dataset(df, train_frac):\n",
    "    # Shuffle\n",
    "    df = sklearn.utils.shuffle(df)\n",
    "    sz = len(df.index)\n",
    "    return df[:int(sz * train_frac)], df[int(sz * train_frac):]\n",
    "\n",
    "def clf_accuracy(results, labels):\n",
    "    assert len(results) == len(labels)\n",
    "    assert len(results)\n",
    "    \n",
    "    return  sum([int(labels[i] == results[i]) for i in range(len(results))]) / len(results)"
   ]
  },
  {
   "cell_type": "markdown",
   "metadata": {},
   "source": [
    "### Задание 1"
   ]
  },
  {
   "cell_type": "code",
   "execution_count": 41,
   "metadata": {},
   "outputs": [],
   "source": [
    "noisysine_df = pd.read_csv('noisysine.csv', sep=',', header=0)\n",
    "noisysine_train, noisysine_test = split_dataset(noisysine_df, 0.8)"
   ]
  },
  {
   "cell_type": "code",
   "execution_count": 47,
   "metadata": {},
   "outputs": [],
   "source": [
    "def simple_regression(X, y):\n",
    "    X = np.array(X.values)\n",
    "    y = np.array(y.values)\n",
    "    \n",
    "    w = np.linalg.pinv(X.T.dot(X)).dot(X.T).dot(y)\n",
    "    return w\n",
    "    \n",
    "def predict_simple_regression(w, X):\n",
    "    X = np.array(X.values)\n",
    "    w = np.array(w)\n",
    "    return X.dot(w)"
   ]
  },
  {
   "cell_type": "code",
   "execution_count": 43,
   "metadata": {},
   "outputs": [
    {
     "name": "stdout",
     "output_type": "stream",
     "text": [
      "Degree = 2 , r2 =  -0.18551880451921088\n"
     ]
    },
    {
     "data": {
      "application/vnd.plotly.v1+json": {
       "config": {
        "linkText": "Export to plot.ly",
        "plotlyServerURL": "https://plot.ly",
        "showLink": false
       },
       "data": [
        {
         "mode": "markers+lines",
         "name": "real values",
         "type": "scatter",
         "uid": "1b892d09-6eb3-4f89-b2ec-0f8d3221633e",
         "x": [
          1,
          3,
          5,
          7,
          11,
          20,
          26,
          36
         ],
         "y": [
          0.51179,
          0.9198,
          1.0144,
          0.46667,
          -0.48845,
          0.20948000000000003,
          0.8536600000000001,
          -0.75927
         ]
        },
        {
         "mode": "markers+lines",
         "name": "pred values",
         "type": "scatter",
         "uid": "f8d3e3ec-ff8a-4c66-a67a-7115447bb44c",
         "x": [
          1,
          3,
          5,
          7,
          11,
          20,
          26,
          36
         ],
         "y": [
          0.012063041360772884,
          0.03210427391484177,
          0.04669903957894145,
          0.055847338353071964,
          0.05780453523142541,
          -0.017446350058078708,
          -0.1288863594299014,
          -0.42354904618232303
         ]
        }
       ],
       "layout": {}
      },
      "text/html": [
       "<div id=\"540df4a0-4f3d-44bd-bdd4-9498fd3a418a\" style=\"height: 525px; width: 100%;\" class=\"plotly-graph-div\"></div><script type=\"text/javascript\">require([\"plotly\"], function(Plotly) { window.PLOTLYENV=window.PLOTLYENV || {};window.PLOTLYENV.BASE_URL=\"https://plot.ly\";Plotly.newPlot(\"540df4a0-4f3d-44bd-bdd4-9498fd3a418a\", [{\"mode\": \"markers+lines\", \"name\": \"real values\", \"x\": [1, 3, 5, 7, 11, 20, 26, 36], \"y\": [0.51179, 0.9198, 1.0144, 0.46667, -0.48845, 0.20948000000000003, 0.8536600000000001, -0.75927], \"type\": \"scatter\", \"uid\": \"08c7dfef-637b-42ed-aa65-13b4f5e15849\"}, {\"mode\": \"markers+lines\", \"name\": \"pred values\", \"x\": [1, 3, 5, 7, 11, 20, 26, 36], \"y\": [0.012063041360772884, 0.03210427391484177, 0.04669903957894145, 0.055847338353071964, 0.05780453523142541, -0.017446350058078708, -0.1288863594299014, -0.42354904618232303], \"type\": \"scatter\", \"uid\": \"09bb4c31-9d52-43cd-a8d5-918579fc2a44\"}], {}, {\"showLink\": false, \"linkText\": \"Export to plot.ly\", \"plotlyServerURL\": \"https://plot.ly\"})});</script><script type=\"text/javascript\">window.addEventListener(\"resize\", function(){window._Plotly.Plots.resize(document.getElementById(\"540df4a0-4f3d-44bd-bdd4-9498fd3a418a\"));});</script>"
      ],
      "text/vnd.plotly.v1+html": [
       "<div id=\"540df4a0-4f3d-44bd-bdd4-9498fd3a418a\" style=\"height: 525px; width: 100%;\" class=\"plotly-graph-div\"></div><script type=\"text/javascript\">require([\"plotly\"], function(Plotly) { window.PLOTLYENV=window.PLOTLYENV || {};window.PLOTLYENV.BASE_URL=\"https://plot.ly\";Plotly.newPlot(\"540df4a0-4f3d-44bd-bdd4-9498fd3a418a\", [{\"mode\": \"markers+lines\", \"name\": \"real values\", \"x\": [1, 3, 5, 7, 11, 20, 26, 36], \"y\": [0.51179, 0.9198, 1.0144, 0.46667, -0.48845, 0.20948000000000003, 0.8536600000000001, -0.75927], \"type\": \"scatter\", \"uid\": \"08c7dfef-637b-42ed-aa65-13b4f5e15849\"}, {\"mode\": \"markers+lines\", \"name\": \"pred values\", \"x\": [1, 3, 5, 7, 11, 20, 26, 36], \"y\": [0.012063041360772884, 0.03210427391484177, 0.04669903957894145, 0.055847338353071964, 0.05780453523142541, -0.017446350058078708, -0.1288863594299014, -0.42354904618232303], \"type\": \"scatter\", \"uid\": \"09bb4c31-9d52-43cd-a8d5-918579fc2a44\"}], {}, {\"showLink\": false, \"linkText\": \"Export to plot.ly\", \"plotlyServerURL\": \"https://plot.ly\"})});</script><script type=\"text/javascript\">window.addEventListener(\"resize\", function(){window._Plotly.Plots.resize(document.getElementById(\"540df4a0-4f3d-44bd-bdd4-9498fd3a418a\"));});</script>"
      ]
     },
     "metadata": {},
     "output_type": "display_data"
    },
    {
     "name": "stdout",
     "output_type": "stream",
     "text": [
      "Degree = 3 , r2 =  -0.2617000888009575\n"
     ]
    },
    {
     "data": {
      "application/vnd.plotly.v1+json": {
       "config": {
        "linkText": "Export to plot.ly",
        "plotlyServerURL": "https://plot.ly",
        "showLink": false
       },
       "data": [
        {
         "mode": "markers+lines",
         "name": "real values",
         "type": "scatter",
         "uid": "065696bb-20b6-4032-8a55-e822b6fe6a85",
         "x": [
          1,
          3,
          5,
          7,
          11,
          20,
          26,
          36
         ],
         "y": [
          0.51179,
          0.9198,
          1.0144,
          0.46667,
          -0.48845,
          0.20948000000000003,
          0.8536600000000001,
          -0.75927
         ]
        },
        {
         "mode": "markers+lines",
         "name": "pred values",
         "type": "scatter",
         "uid": "c0128d4d-7d60-45ef-b9a0-71cca86c2784",
         "x": [
          1,
          3,
          5,
          7,
          11,
          20,
          26,
          36
         ],
         "y": [
          -0.02323201124740029,
          -0.05611159959115579,
          -0.07327120360732141,
          -0.07758193674446151,
          -0.05914124417592247,
          0.009303252998901723,
          -0.026617468903285424,
          -0.4707232580057852
         ]
        }
       ],
       "layout": {}
      },
      "text/html": [
       "<div id=\"f9a74cc3-3761-4cd4-9537-f7dafe9884df\" style=\"height: 525px; width: 100%;\" class=\"plotly-graph-div\"></div><script type=\"text/javascript\">require([\"plotly\"], function(Plotly) { window.PLOTLYENV=window.PLOTLYENV || {};window.PLOTLYENV.BASE_URL=\"https://plot.ly\";Plotly.newPlot(\"f9a74cc3-3761-4cd4-9537-f7dafe9884df\", [{\"mode\": \"markers+lines\", \"name\": \"real values\", \"x\": [1, 3, 5, 7, 11, 20, 26, 36], \"y\": [0.51179, 0.9198, 1.0144, 0.46667, -0.48845, 0.20948000000000003, 0.8536600000000001, -0.75927], \"type\": \"scatter\", \"uid\": \"af739353-6cec-4b3e-bff4-9b1245ec6a04\"}, {\"mode\": \"markers+lines\", \"name\": \"pred values\", \"x\": [1, 3, 5, 7, 11, 20, 26, 36], \"y\": [-0.02323201124740029, -0.05611159959115579, -0.07327120360732141, -0.07758193674446151, -0.05914124417592247, 0.009303252998901723, -0.026617468903285424, -0.4707232580057852], \"type\": \"scatter\", \"uid\": \"aa4bf5a6-940a-413e-be58-1f99d99e790e\"}], {}, {\"showLink\": false, \"linkText\": \"Export to plot.ly\", \"plotlyServerURL\": \"https://plot.ly\"})});</script><script type=\"text/javascript\">window.addEventListener(\"resize\", function(){window._Plotly.Plots.resize(document.getElementById(\"f9a74cc3-3761-4cd4-9537-f7dafe9884df\"));});</script>"
      ],
      "text/vnd.plotly.v1+html": [
       "<div id=\"f9a74cc3-3761-4cd4-9537-f7dafe9884df\" style=\"height: 525px; width: 100%;\" class=\"plotly-graph-div\"></div><script type=\"text/javascript\">require([\"plotly\"], function(Plotly) { window.PLOTLYENV=window.PLOTLYENV || {};window.PLOTLYENV.BASE_URL=\"https://plot.ly\";Plotly.newPlot(\"f9a74cc3-3761-4cd4-9537-f7dafe9884df\", [{\"mode\": \"markers+lines\", \"name\": \"real values\", \"x\": [1, 3, 5, 7, 11, 20, 26, 36], \"y\": [0.51179, 0.9198, 1.0144, 0.46667, -0.48845, 0.20948000000000003, 0.8536600000000001, -0.75927], \"type\": \"scatter\", \"uid\": \"af739353-6cec-4b3e-bff4-9b1245ec6a04\"}, {\"mode\": \"markers+lines\", \"name\": \"pred values\", \"x\": [1, 3, 5, 7, 11, 20, 26, 36], \"y\": [-0.02323201124740029, -0.05611159959115579, -0.07327120360732141, -0.07758193674446151, -0.05914124417592247, 0.009303252998901723, -0.026617468903285424, -0.4707232580057852], \"type\": \"scatter\", \"uid\": \"aa4bf5a6-940a-413e-be58-1f99d99e790e\"}], {}, {\"showLink\": false, \"linkText\": \"Export to plot.ly\", \"plotlyServerURL\": \"https://plot.ly\"})});</script><script type=\"text/javascript\">window.addEventListener(\"resize\", function(){window._Plotly.Plots.resize(document.getElementById(\"f9a74cc3-3761-4cd4-9537-f7dafe9884df\"));});</script>"
      ]
     },
     "metadata": {},
     "output_type": "display_data"
    },
    {
     "name": "stdout",
     "output_type": "stream",
     "text": [
      "Degree = 4 , r2 =  -0.26003540412341297\n"
     ]
    },
    {
     "data": {
      "application/vnd.plotly.v1+json": {
       "config": {
        "linkText": "Export to plot.ly",
        "plotlyServerURL": "https://plot.ly",
        "showLink": false
       },
       "data": [
        {
         "mode": "markers+lines",
         "name": "real values",
         "type": "scatter",
         "uid": "1b42eca2-336c-45ec-94b1-2a1f650c6b31",
         "x": [
          1,
          3,
          5,
          7,
          11,
          20,
          26,
          36
         ],
         "y": [
          0.51179,
          0.9198,
          1.0144,
          0.46667,
          -0.48845,
          0.20948000000000003,
          0.8536600000000001,
          -0.75927
         ]
        },
        {
         "mode": "markers+lines",
         "name": "pred values",
         "type": "scatter",
         "uid": "99046284-6a7b-4b59-ad83-9c9b0eb33e6c",
         "x": [
          1,
          3,
          5,
          7,
          11,
          20,
          26,
          36
         ],
         "y": [
          -0.0227841920470465,
          -0.055144563590948215,
          -0.0721733459562964,
          -0.07661973375590146,
          -0.05884371294779972,
          0.008631207689419051,
          -0.026676752575187423,
          -0.47045430540263267
         ]
        }
       ],
       "layout": {}
      },
      "text/html": [
       "<div id=\"6e8b5166-dbc5-40be-a76a-93932e8f503b\" style=\"height: 525px; width: 100%;\" class=\"plotly-graph-div\"></div><script type=\"text/javascript\">require([\"plotly\"], function(Plotly) { window.PLOTLYENV=window.PLOTLYENV || {};window.PLOTLYENV.BASE_URL=\"https://plot.ly\";Plotly.newPlot(\"6e8b5166-dbc5-40be-a76a-93932e8f503b\", [{\"mode\": \"markers+lines\", \"name\": \"real values\", \"x\": [1, 3, 5, 7, 11, 20, 26, 36], \"y\": [0.51179, 0.9198, 1.0144, 0.46667, -0.48845, 0.20948000000000003, 0.8536600000000001, -0.75927], \"type\": \"scatter\", \"uid\": \"3ecfc5ea-9e44-4c4f-9544-c2a62b865477\"}, {\"mode\": \"markers+lines\", \"name\": \"pred values\", \"x\": [1, 3, 5, 7, 11, 20, 26, 36], \"y\": [-0.0227841920470465, -0.055144563590948215, -0.0721733459562964, -0.07661973375590146, -0.05884371294779972, 0.008631207689419051, -0.026676752575187423, -0.47045430540263267], \"type\": \"scatter\", \"uid\": \"3a834c5f-370b-418a-8143-b0cf088c0388\"}], {}, {\"showLink\": false, \"linkText\": \"Export to plot.ly\", \"plotlyServerURL\": \"https://plot.ly\"})});</script><script type=\"text/javascript\">window.addEventListener(\"resize\", function(){window._Plotly.Plots.resize(document.getElementById(\"6e8b5166-dbc5-40be-a76a-93932e8f503b\"));});</script>"
      ],
      "text/vnd.plotly.v1+html": [
       "<div id=\"6e8b5166-dbc5-40be-a76a-93932e8f503b\" style=\"height: 525px; width: 100%;\" class=\"plotly-graph-div\"></div><script type=\"text/javascript\">require([\"plotly\"], function(Plotly) { window.PLOTLYENV=window.PLOTLYENV || {};window.PLOTLYENV.BASE_URL=\"https://plot.ly\";Plotly.newPlot(\"6e8b5166-dbc5-40be-a76a-93932e8f503b\", [{\"mode\": \"markers+lines\", \"name\": \"real values\", \"x\": [1, 3, 5, 7, 11, 20, 26, 36], \"y\": [0.51179, 0.9198, 1.0144, 0.46667, -0.48845, 0.20948000000000003, 0.8536600000000001, -0.75927], \"type\": \"scatter\", \"uid\": \"3ecfc5ea-9e44-4c4f-9544-c2a62b865477\"}, {\"mode\": \"markers+lines\", \"name\": \"pred values\", \"x\": [1, 3, 5, 7, 11, 20, 26, 36], \"y\": [-0.0227841920470465, -0.055144563590948215, -0.0721733459562964, -0.07661973375590146, -0.05884371294779972, 0.008631207689419051, -0.026676752575187423, -0.47045430540263267], \"type\": \"scatter\", \"uid\": \"3a834c5f-370b-418a-8143-b0cf088c0388\"}], {}, {\"showLink\": false, \"linkText\": \"Export to plot.ly\", \"plotlyServerURL\": \"https://plot.ly\"})});</script><script type=\"text/javascript\">window.addEventListener(\"resize\", function(){window._Plotly.Plots.resize(document.getElementById(\"6e8b5166-dbc5-40be-a76a-93932e8f503b\"));});</script>"
      ]
     },
     "metadata": {},
     "output_type": "display_data"
    },
    {
     "name": "stdout",
     "output_type": "stream",
     "text": [
      "Degree = 5 , r2 =  0.8424313102593054\n"
     ]
    },
    {
     "data": {
      "application/vnd.plotly.v1+json": {
       "config": {
        "linkText": "Export to plot.ly",
        "plotlyServerURL": "https://plot.ly",
        "showLink": false
       },
       "data": [
        {
         "mode": "markers+lines",
         "name": "real values",
         "type": "scatter",
         "uid": "12f740e6-6b1c-4dbb-bcaa-2b9369706111",
         "x": [
          1,
          3,
          5,
          7,
          11,
          20,
          26,
          36
         ],
         "y": [
          0.51179,
          0.9198,
          1.0144,
          0.46667,
          -0.48845,
          0.20948000000000003,
          0.8536600000000001,
          -0.75927
         ]
        },
        {
         "mode": "markers+lines",
         "name": "pred values",
         "type": "scatter",
         "uid": "8861cbbd-a161-4876-8223-265eec3c6c91",
         "x": [
          1,
          3,
          5,
          7,
          11,
          20,
          26,
          36
         ],
         "y": [
          0.736941542052445,
          1.2807418399614101,
          1.0560359190863455,
          0.4969889974085943,
          -0.5371296114345103,
          0.15743845298336367,
          0.712157599469883,
          -1.274917858442791
         ]
        }
       ],
       "layout": {}
      },
      "text/html": [
       "<div id=\"015742dd-1ab7-4914-b3d3-2b68ff1c1765\" style=\"height: 525px; width: 100%;\" class=\"plotly-graph-div\"></div><script type=\"text/javascript\">require([\"plotly\"], function(Plotly) { window.PLOTLYENV=window.PLOTLYENV || {};window.PLOTLYENV.BASE_URL=\"https://plot.ly\";Plotly.newPlot(\"015742dd-1ab7-4914-b3d3-2b68ff1c1765\", [{\"mode\": \"markers+lines\", \"name\": \"real values\", \"x\": [1, 3, 5, 7, 11, 20, 26, 36], \"y\": [0.51179, 0.9198, 1.0144, 0.46667, -0.48845, 0.20948000000000003, 0.8536600000000001, -0.75927], \"type\": \"scatter\", \"uid\": \"1868c0c1-eccc-4234-b9bc-097f1efdd07b\"}, {\"mode\": \"markers+lines\", \"name\": \"pred values\", \"x\": [1, 3, 5, 7, 11, 20, 26, 36], \"y\": [0.736941542052445, 1.2807418399614101, 1.0560359190863455, 0.4969889974085943, -0.5371296114345103, 0.15743845298336367, 0.712157599469883, -1.274917858442791], \"type\": \"scatter\", \"uid\": \"b3e76d1c-66f5-4006-adc1-22133df3e9f6\"}], {}, {\"showLink\": false, \"linkText\": \"Export to plot.ly\", \"plotlyServerURL\": \"https://plot.ly\"})});</script><script type=\"text/javascript\">window.addEventListener(\"resize\", function(){window._Plotly.Plots.resize(document.getElementById(\"015742dd-1ab7-4914-b3d3-2b68ff1c1765\"));});</script>"
      ],
      "text/vnd.plotly.v1+html": [
       "<div id=\"015742dd-1ab7-4914-b3d3-2b68ff1c1765\" style=\"height: 525px; width: 100%;\" class=\"plotly-graph-div\"></div><script type=\"text/javascript\">require([\"plotly\"], function(Plotly) { window.PLOTLYENV=window.PLOTLYENV || {};window.PLOTLYENV.BASE_URL=\"https://plot.ly\";Plotly.newPlot(\"015742dd-1ab7-4914-b3d3-2b68ff1c1765\", [{\"mode\": \"markers+lines\", \"name\": \"real values\", \"x\": [1, 3, 5, 7, 11, 20, 26, 36], \"y\": [0.51179, 0.9198, 1.0144, 0.46667, -0.48845, 0.20948000000000003, 0.8536600000000001, -0.75927], \"type\": \"scatter\", \"uid\": \"1868c0c1-eccc-4234-b9bc-097f1efdd07b\"}, {\"mode\": \"markers+lines\", \"name\": \"pred values\", \"x\": [1, 3, 5, 7, 11, 20, 26, 36], \"y\": [0.736941542052445, 1.2807418399614101, 1.0560359190863455, 0.4969889974085943, -0.5371296114345103, 0.15743845298336367, 0.712157599469883, -1.274917858442791], \"type\": \"scatter\", \"uid\": \"b3e76d1c-66f5-4006-adc1-22133df3e9f6\"}], {}, {\"showLink\": false, \"linkText\": \"Export to plot.ly\", \"plotlyServerURL\": \"https://plot.ly\"})});</script><script type=\"text/javascript\">window.addEventListener(\"resize\", function(){window._Plotly.Plots.resize(document.getElementById(\"015742dd-1ab7-4914-b3d3-2b68ff1c1765\"));});</script>"
      ]
     },
     "metadata": {},
     "output_type": "display_data"
    }
   ],
   "source": [
    "noisysine_simple_df = noisysine_df.copy()\n",
    "\n",
    "for i in range(2, 6):\n",
    "    noisysine_simple_df['x' + str(i)] = noisysine_simple_df['x'] ** i\n",
    "    noisysine_simple_train_df = noisysine_simple_df.loc[noisysine_train.index]\n",
    "    noisysine_simple_test_df = noisysine_simple_df.loc[noisysine_test.index]\n",
    "    \n",
    "    real_y = noisysine_simple_test_df.sort_values(by=['x'])['y']\n",
    "    pred_y = predict_simple_regression(\n",
    "                simple_regression(noisysine_simple_train_df.drop(columns=['y']), noisysine_simple_train_df['y']),\n",
    "                noisysine_simple_test_df.drop(columns=['y']).sort_values(by=['x']))\n",
    "    \n",
    "    print(\"Degree =\", i, \", r2 = \", sklearn.metrics.r2_score(real_y, pred_y))\n",
    "    \n",
    "    plotly.offline.iplot([\n",
    "        go.Scatter(\n",
    "            y = real_y,\n",
    "            x = noisysine_simple_test_df.sort_values(by=['x'])['x'],\n",
    "            mode = 'markers+lines',\n",
    "            name = 'real values'\n",
    "        ),\n",
    "        go.Scatter(\n",
    "            y = pred_y,\n",
    "            x = sorted(noisysine_simple_test_df['x']),\n",
    "            mode = 'markers+lines',\n",
    "            name = 'pred values'\n",
    "        ),\n",
    "        ], filename='real_values.html')"
   ]
  },
  {
   "cell_type": "code",
   "execution_count": 44,
   "metadata": {},
   "outputs": [],
   "source": [
    "hydrodynamics_df = pd.read_csv('hydrodynamics.csv', sep=',', header=0)\n",
    "hydrodynamics_train, hydrodynamics_test = split_dataset(hydrodynamics_df, 0.8)"
   ]
  },
  {
   "cell_type": "code",
   "execution_count": 48,
   "metadata": {},
   "outputs": [
    {
     "name": "stdout",
     "output_type": "stream",
     "text": [
      "Degree = 2 , r2 =  0.8744537603557666\n"
     ]
    }
   ],
   "source": [
    "hydrodynamics_simple_df = hydrodynamics_df.copy()\n",
    "\n",
    "for i in [2]:\n",
    "    columns = hydrodynamics_simple_df.drop(columns=['y']).columns\n",
    "    \n",
    "    for c1 in columns:\n",
    "        for c2 in columns:\n",
    "            hydrodynamics_simple_df[c1 + c2] = hydrodynamics_simple_df[c1] * hydrodynamics_simple_df[c2]\n",
    "            \n",
    "    hydrodynamics_simple_train_df = hydrodynamics_simple_df.loc[hydrodynamics_train.index]\n",
    "    hydrodynamics_simple_test_df = hydrodynamics_simple_df.loc[hydrodynamics_test.index]\n",
    "    \n",
    "    real_y = hydrodynamics_simple_test_df['y']\n",
    "    pred_y = predict_simple_regression(\n",
    "                simple_regression(hydrodynamics_simple_train_df.drop(columns=['y']), hydrodynamics_simple_train_df['y']),\n",
    "                hydrodynamics_simple_test_df.drop(columns=['y']))\n",
    "    \n",
    "    print(\"Degree =\", i, \", r2 = \", sklearn.metrics.r2_score(real_y, pred_y))"
   ]
  },
  {
   "cell_type": "markdown",
   "metadata": {},
   "source": [
    "### Задание 2"
   ]
  },
  {
   "cell_type": "code",
   "execution_count": 54,
   "metadata": {},
   "outputs": [],
   "source": [
    "def ridge_regression(X, y, alpha=0.001):\n",
    "    X = np.array(X.values)\n",
    "    y = np.array(y.values)\n",
    "    \n",
    "    w = np.linalg.inv(X.T.dot(X) - np.eye(X.T.shape[0]) * alpha).dot(X.T).dot(y)\n",
    "    return w"
   ]
  },
  {
   "cell_type": "markdown",
   "metadata": {},
   "source": [
    "Тут матрица обратима, отличные от 0 значени $\\alpha$ только уменьшают R2."
   ]
  },
  {
   "cell_type": "code",
   "execution_count": 116,
   "metadata": {},
   "outputs": [
    {
     "name": "stdout",
     "output_type": "stream",
     "text": [
      "Degree = 2 , r2 =  -0.18551880451921088\n"
     ]
    },
    {
     "data": {
      "application/vnd.plotly.v1+json": {
       "config": {
        "linkText": "Export to plot.ly",
        "plotlyServerURL": "https://plot.ly",
        "showLink": false
       },
       "data": [
        {
         "mode": "markers+lines",
         "name": "real values",
         "type": "scatter",
         "uid": "789dbaf9-47e2-40ba-a4fd-697422ffcbee",
         "x": [
          1,
          3,
          5,
          7,
          11,
          20,
          26,
          36
         ],
         "y": [
          0.51179,
          0.9198,
          1.0144,
          0.46667,
          -0.48845,
          0.20948000000000003,
          0.8536600000000001,
          -0.75927
         ]
        },
        {
         "mode": "markers+lines",
         "name": "pred values",
         "type": "scatter",
         "uid": "4ca2e395-54d2-40b1-818f-67b3d5681b3f",
         "x": [
          1,
          3,
          5,
          7,
          11,
          20,
          26,
          36
         ],
         "y": [
          0.012063041360772884,
          0.03210427391484177,
          0.04669903957894145,
          0.055847338353071964,
          0.05780453523142541,
          -0.017446350058078708,
          -0.1288863594299014,
          -0.42354904618232303
         ]
        }
       ],
       "layout": {}
      },
      "text/html": [
       "<div id=\"678014b8-fb36-444f-b444-321ef20a8515\" style=\"height: 525px; width: 100%;\" class=\"plotly-graph-div\"></div><script type=\"text/javascript\">require([\"plotly\"], function(Plotly) { window.PLOTLYENV=window.PLOTLYENV || {};window.PLOTLYENV.BASE_URL=\"https://plot.ly\";Plotly.newPlot(\"678014b8-fb36-444f-b444-321ef20a8515\", [{\"mode\": \"markers+lines\", \"name\": \"real values\", \"x\": [1, 3, 5, 7, 11, 20, 26, 36], \"y\": [0.51179, 0.9198, 1.0144, 0.46667, -0.48845, 0.20948000000000003, 0.8536600000000001, -0.75927], \"type\": \"scatter\", \"uid\": \"8f35fe28-6522-4c26-945b-484cc90825ab\"}, {\"mode\": \"markers+lines\", \"name\": \"pred values\", \"x\": [1, 3, 5, 7, 11, 20, 26, 36], \"y\": [0.012063041360772884, 0.03210427391484177, 0.04669903957894145, 0.055847338353071964, 0.05780453523142541, -0.017446350058078708, -0.1288863594299014, -0.42354904618232303], \"type\": \"scatter\", \"uid\": \"9030913f-8cab-4b1d-ac40-0d56e3ce82cb\"}], {}, {\"showLink\": false, \"linkText\": \"Export to plot.ly\", \"plotlyServerURL\": \"https://plot.ly\"})});</script><script type=\"text/javascript\">window.addEventListener(\"resize\", function(){window._Plotly.Plots.resize(document.getElementById(\"678014b8-fb36-444f-b444-321ef20a8515\"));});</script>"
      ],
      "text/vnd.plotly.v1+html": [
       "<div id=\"678014b8-fb36-444f-b444-321ef20a8515\" style=\"height: 525px; width: 100%;\" class=\"plotly-graph-div\"></div><script type=\"text/javascript\">require([\"plotly\"], function(Plotly) { window.PLOTLYENV=window.PLOTLYENV || {};window.PLOTLYENV.BASE_URL=\"https://plot.ly\";Plotly.newPlot(\"678014b8-fb36-444f-b444-321ef20a8515\", [{\"mode\": \"markers+lines\", \"name\": \"real values\", \"x\": [1, 3, 5, 7, 11, 20, 26, 36], \"y\": [0.51179, 0.9198, 1.0144, 0.46667, -0.48845, 0.20948000000000003, 0.8536600000000001, -0.75927], \"type\": \"scatter\", \"uid\": \"8f35fe28-6522-4c26-945b-484cc90825ab\"}, {\"mode\": \"markers+lines\", \"name\": \"pred values\", \"x\": [1, 3, 5, 7, 11, 20, 26, 36], \"y\": [0.012063041360772884, 0.03210427391484177, 0.04669903957894145, 0.055847338353071964, 0.05780453523142541, -0.017446350058078708, -0.1288863594299014, -0.42354904618232303], \"type\": \"scatter\", \"uid\": \"9030913f-8cab-4b1d-ac40-0d56e3ce82cb\"}], {}, {\"showLink\": false, \"linkText\": \"Export to plot.ly\", \"plotlyServerURL\": \"https://plot.ly\"})});</script><script type=\"text/javascript\">window.addEventListener(\"resize\", function(){window._Plotly.Plots.resize(document.getElementById(\"678014b8-fb36-444f-b444-321ef20a8515\"));});</script>"
      ]
     },
     "metadata": {},
     "output_type": "display_data"
    },
    {
     "name": "stdout",
     "output_type": "stream",
     "text": [
      "Degree = 3 , r2 =  -0.2617000888009575\n"
     ]
    },
    {
     "data": {
      "application/vnd.plotly.v1+json": {
       "config": {
        "linkText": "Export to plot.ly",
        "plotlyServerURL": "https://plot.ly",
        "showLink": false
       },
       "data": [
        {
         "mode": "markers+lines",
         "name": "real values",
         "type": "scatter",
         "uid": "03932db5-9207-4f4a-a841-14bd4d69271e",
         "x": [
          1,
          3,
          5,
          7,
          11,
          20,
          26,
          36
         ],
         "y": [
          0.51179,
          0.9198,
          1.0144,
          0.46667,
          -0.48845,
          0.20948000000000003,
          0.8536600000000001,
          -0.75927
         ]
        },
        {
         "mode": "markers+lines",
         "name": "pred values",
         "type": "scatter",
         "uid": "5b106010-c3a4-4c36-a480-64e23e65a893",
         "x": [
          1,
          3,
          5,
          7,
          11,
          20,
          26,
          36
         ],
         "y": [
          -0.02323201124740029,
          -0.05611159959115579,
          -0.07327120360732141,
          -0.07758193674446151,
          -0.05914124417592247,
          0.009303252998901723,
          -0.026617468903285424,
          -0.4707232580057852
         ]
        }
       ],
       "layout": {}
      },
      "text/html": [
       "<div id=\"5bf64310-e75d-4b38-81a0-7327b73137a7\" style=\"height: 525px; width: 100%;\" class=\"plotly-graph-div\"></div><script type=\"text/javascript\">require([\"plotly\"], function(Plotly) { window.PLOTLYENV=window.PLOTLYENV || {};window.PLOTLYENV.BASE_URL=\"https://plot.ly\";Plotly.newPlot(\"5bf64310-e75d-4b38-81a0-7327b73137a7\", [{\"mode\": \"markers+lines\", \"name\": \"real values\", \"x\": [1, 3, 5, 7, 11, 20, 26, 36], \"y\": [0.51179, 0.9198, 1.0144, 0.46667, -0.48845, 0.20948000000000003, 0.8536600000000001, -0.75927], \"type\": \"scatter\", \"uid\": \"9c31ce76-20eb-4d50-b80b-98ad4f84d808\"}, {\"mode\": \"markers+lines\", \"name\": \"pred values\", \"x\": [1, 3, 5, 7, 11, 20, 26, 36], \"y\": [-0.02323201124740029, -0.05611159959115579, -0.07327120360732141, -0.07758193674446151, -0.05914124417592247, 0.009303252998901723, -0.026617468903285424, -0.4707232580057852], \"type\": \"scatter\", \"uid\": \"0f0cba18-bf44-4861-8599-7f8215f236d5\"}], {}, {\"showLink\": false, \"linkText\": \"Export to plot.ly\", \"plotlyServerURL\": \"https://plot.ly\"})});</script><script type=\"text/javascript\">window.addEventListener(\"resize\", function(){window._Plotly.Plots.resize(document.getElementById(\"5bf64310-e75d-4b38-81a0-7327b73137a7\"));});</script>"
      ],
      "text/vnd.plotly.v1+html": [
       "<div id=\"5bf64310-e75d-4b38-81a0-7327b73137a7\" style=\"height: 525px; width: 100%;\" class=\"plotly-graph-div\"></div><script type=\"text/javascript\">require([\"plotly\"], function(Plotly) { window.PLOTLYENV=window.PLOTLYENV || {};window.PLOTLYENV.BASE_URL=\"https://plot.ly\";Plotly.newPlot(\"5bf64310-e75d-4b38-81a0-7327b73137a7\", [{\"mode\": \"markers+lines\", \"name\": \"real values\", \"x\": [1, 3, 5, 7, 11, 20, 26, 36], \"y\": [0.51179, 0.9198, 1.0144, 0.46667, -0.48845, 0.20948000000000003, 0.8536600000000001, -0.75927], \"type\": \"scatter\", \"uid\": \"9c31ce76-20eb-4d50-b80b-98ad4f84d808\"}, {\"mode\": \"markers+lines\", \"name\": \"pred values\", \"x\": [1, 3, 5, 7, 11, 20, 26, 36], \"y\": [-0.02323201124740029, -0.05611159959115579, -0.07327120360732141, -0.07758193674446151, -0.05914124417592247, 0.009303252998901723, -0.026617468903285424, -0.4707232580057852], \"type\": \"scatter\", \"uid\": \"0f0cba18-bf44-4861-8599-7f8215f236d5\"}], {}, {\"showLink\": false, \"linkText\": \"Export to plot.ly\", \"plotlyServerURL\": \"https://plot.ly\"})});</script><script type=\"text/javascript\">window.addEventListener(\"resize\", function(){window._Plotly.Plots.resize(document.getElementById(\"5bf64310-e75d-4b38-81a0-7327b73137a7\"));});</script>"
      ]
     },
     "metadata": {},
     "output_type": "display_data"
    },
    {
     "name": "stdout",
     "output_type": "stream",
     "text": [
      "Degree = 4 , r2 =  -0.26003540412341297\n"
     ]
    },
    {
     "data": {
      "application/vnd.plotly.v1+json": {
       "config": {
        "linkText": "Export to plot.ly",
        "plotlyServerURL": "https://plot.ly",
        "showLink": false
       },
       "data": [
        {
         "mode": "markers+lines",
         "name": "real values",
         "type": "scatter",
         "uid": "e4c7d1d7-466a-410c-8bda-f3ddc2520dd8",
         "x": [
          1,
          3,
          5,
          7,
          11,
          20,
          26,
          36
         ],
         "y": [
          0.51179,
          0.9198,
          1.0144,
          0.46667,
          -0.48845,
          0.20948000000000003,
          0.8536600000000001,
          -0.75927
         ]
        },
        {
         "mode": "markers+lines",
         "name": "pred values",
         "type": "scatter",
         "uid": "b79858e4-6bd6-4d26-a515-71fa05991672",
         "x": [
          1,
          3,
          5,
          7,
          11,
          20,
          26,
          36
         ],
         "y": [
          -0.0227841920470465,
          -0.055144563590948215,
          -0.0721733459562964,
          -0.07661973375590146,
          -0.05884371294779972,
          0.008631207689419051,
          -0.026676752575187423,
          -0.47045430540263267
         ]
        }
       ],
       "layout": {}
      },
      "text/html": [
       "<div id=\"b2153e61-bbc7-4f34-86a8-3cc8a08d51de\" style=\"height: 525px; width: 100%;\" class=\"plotly-graph-div\"></div><script type=\"text/javascript\">require([\"plotly\"], function(Plotly) { window.PLOTLYENV=window.PLOTLYENV || {};window.PLOTLYENV.BASE_URL=\"https://plot.ly\";Plotly.newPlot(\"b2153e61-bbc7-4f34-86a8-3cc8a08d51de\", [{\"mode\": \"markers+lines\", \"name\": \"real values\", \"x\": [1, 3, 5, 7, 11, 20, 26, 36], \"y\": [0.51179, 0.9198, 1.0144, 0.46667, -0.48845, 0.20948000000000003, 0.8536600000000001, -0.75927], \"type\": \"scatter\", \"uid\": \"bd7cae49-bd1c-4390-823c-be066ddd18e6\"}, {\"mode\": \"markers+lines\", \"name\": \"pred values\", \"x\": [1, 3, 5, 7, 11, 20, 26, 36], \"y\": [-0.0227841920470465, -0.055144563590948215, -0.0721733459562964, -0.07661973375590146, -0.05884371294779972, 0.008631207689419051, -0.026676752575187423, -0.47045430540263267], \"type\": \"scatter\", \"uid\": \"25e003aa-8270-466f-bd66-062c26c6ff87\"}], {}, {\"showLink\": false, \"linkText\": \"Export to plot.ly\", \"plotlyServerURL\": \"https://plot.ly\"})});</script><script type=\"text/javascript\">window.addEventListener(\"resize\", function(){window._Plotly.Plots.resize(document.getElementById(\"b2153e61-bbc7-4f34-86a8-3cc8a08d51de\"));});</script>"
      ],
      "text/vnd.plotly.v1+html": [
       "<div id=\"b2153e61-bbc7-4f34-86a8-3cc8a08d51de\" style=\"height: 525px; width: 100%;\" class=\"plotly-graph-div\"></div><script type=\"text/javascript\">require([\"plotly\"], function(Plotly) { window.PLOTLYENV=window.PLOTLYENV || {};window.PLOTLYENV.BASE_URL=\"https://plot.ly\";Plotly.newPlot(\"b2153e61-bbc7-4f34-86a8-3cc8a08d51de\", [{\"mode\": \"markers+lines\", \"name\": \"real values\", \"x\": [1, 3, 5, 7, 11, 20, 26, 36], \"y\": [0.51179, 0.9198, 1.0144, 0.46667, -0.48845, 0.20948000000000003, 0.8536600000000001, -0.75927], \"type\": \"scatter\", \"uid\": \"bd7cae49-bd1c-4390-823c-be066ddd18e6\"}, {\"mode\": \"markers+lines\", \"name\": \"pred values\", \"x\": [1, 3, 5, 7, 11, 20, 26, 36], \"y\": [-0.0227841920470465, -0.055144563590948215, -0.0721733459562964, -0.07661973375590146, -0.05884371294779972, 0.008631207689419051, -0.026676752575187423, -0.47045430540263267], \"type\": \"scatter\", \"uid\": \"25e003aa-8270-466f-bd66-062c26c6ff87\"}], {}, {\"showLink\": false, \"linkText\": \"Export to plot.ly\", \"plotlyServerURL\": \"https://plot.ly\"})});</script><script type=\"text/javascript\">window.addEventListener(\"resize\", function(){window._Plotly.Plots.resize(document.getElementById(\"b2153e61-bbc7-4f34-86a8-3cc8a08d51de\"));});</script>"
      ]
     },
     "metadata": {},
     "output_type": "display_data"
    },
    {
     "name": "stdout",
     "output_type": "stream",
     "text": [
      "Degree = 5 , r2 =  0.8424313102593054\n"
     ]
    },
    {
     "data": {
      "application/vnd.plotly.v1+json": {
       "config": {
        "linkText": "Export to plot.ly",
        "plotlyServerURL": "https://plot.ly",
        "showLink": false
       },
       "data": [
        {
         "mode": "markers+lines",
         "name": "real values",
         "type": "scatter",
         "uid": "f2ce1703-139b-4ae6-971e-ccd42f7738f9",
         "x": [
          1,
          3,
          5,
          7,
          11,
          20,
          26,
          36
         ],
         "y": [
          0.51179,
          0.9198,
          1.0144,
          0.46667,
          -0.48845,
          0.20948000000000003,
          0.8536600000000001,
          -0.75927
         ]
        },
        {
         "mode": "markers+lines",
         "name": "pred values",
         "type": "scatter",
         "uid": "7982879a-614e-49b6-8a3f-c259a8af4ff1",
         "x": [
          1,
          3,
          5,
          7,
          11,
          20,
          26,
          36
         ],
         "y": [
          0.736941542052445,
          1.2807418399614101,
          1.0560359190863455,
          0.4969889974085943,
          -0.5371296114345103,
          0.15743845298336367,
          0.712157599469883,
          -1.274917858442791
         ]
        }
       ],
       "layout": {}
      },
      "text/html": [
       "<div id=\"49019a9b-465f-459a-852f-0a9e9719722d\" style=\"height: 525px; width: 100%;\" class=\"plotly-graph-div\"></div><script type=\"text/javascript\">require([\"plotly\"], function(Plotly) { window.PLOTLYENV=window.PLOTLYENV || {};window.PLOTLYENV.BASE_URL=\"https://plot.ly\";Plotly.newPlot(\"49019a9b-465f-459a-852f-0a9e9719722d\", [{\"mode\": \"markers+lines\", \"name\": \"real values\", \"x\": [1, 3, 5, 7, 11, 20, 26, 36], \"y\": [0.51179, 0.9198, 1.0144, 0.46667, -0.48845, 0.20948000000000003, 0.8536600000000001, -0.75927], \"type\": \"scatter\", \"uid\": \"fea7205e-ec5e-4aee-a689-a0cbed4924c3\"}, {\"mode\": \"markers+lines\", \"name\": \"pred values\", \"x\": [1, 3, 5, 7, 11, 20, 26, 36], \"y\": [0.736941542052445, 1.2807418399614101, 1.0560359190863455, 0.4969889974085943, -0.5371296114345103, 0.15743845298336367, 0.712157599469883, -1.274917858442791], \"type\": \"scatter\", \"uid\": \"632d5f3f-e92a-449f-adec-b25d74086d68\"}], {}, {\"showLink\": false, \"linkText\": \"Export to plot.ly\", \"plotlyServerURL\": \"https://plot.ly\"})});</script><script type=\"text/javascript\">window.addEventListener(\"resize\", function(){window._Plotly.Plots.resize(document.getElementById(\"49019a9b-465f-459a-852f-0a9e9719722d\"));});</script>"
      ],
      "text/vnd.plotly.v1+html": [
       "<div id=\"49019a9b-465f-459a-852f-0a9e9719722d\" style=\"height: 525px; width: 100%;\" class=\"plotly-graph-div\"></div><script type=\"text/javascript\">require([\"plotly\"], function(Plotly) { window.PLOTLYENV=window.PLOTLYENV || {};window.PLOTLYENV.BASE_URL=\"https://plot.ly\";Plotly.newPlot(\"49019a9b-465f-459a-852f-0a9e9719722d\", [{\"mode\": \"markers+lines\", \"name\": \"real values\", \"x\": [1, 3, 5, 7, 11, 20, 26, 36], \"y\": [0.51179, 0.9198, 1.0144, 0.46667, -0.48845, 0.20948000000000003, 0.8536600000000001, -0.75927], \"type\": \"scatter\", \"uid\": \"fea7205e-ec5e-4aee-a689-a0cbed4924c3\"}, {\"mode\": \"markers+lines\", \"name\": \"pred values\", \"x\": [1, 3, 5, 7, 11, 20, 26, 36], \"y\": [0.736941542052445, 1.2807418399614101, 1.0560359190863455, 0.4969889974085943, -0.5371296114345103, 0.15743845298336367, 0.712157599469883, -1.274917858442791], \"type\": \"scatter\", \"uid\": \"632d5f3f-e92a-449f-adec-b25d74086d68\"}], {}, {\"showLink\": false, \"linkText\": \"Export to plot.ly\", \"plotlyServerURL\": \"https://plot.ly\"})});</script><script type=\"text/javascript\">window.addEventListener(\"resize\", function(){window._Plotly.Plots.resize(document.getElementById(\"49019a9b-465f-459a-852f-0a9e9719722d\"));});</script>"
      ]
     },
     "metadata": {},
     "output_type": "display_data"
    }
   ],
   "source": [
    "noisysine_ridge_df = noisysine_df.copy()\n",
    "\n",
    "for i in range(2, 6):\n",
    "    noisysine_ridge_df['x' + str(i)] = noisysine_ridge_df['x'] ** i\n",
    "    noisysine_ridge_train_df = noisysine_ridge_df.loc[noisysine_train.index]\n",
    "    noisysine_ridge_test_df = noisysine_ridge_df.loc[noisysine_test.index]\n",
    "    \n",
    "    real_y = noisysine_ridge_test_df.sort_values(by=['x'])['y']\n",
    "    pred_y = predict_simple_regression(\n",
    "                ridge_regression(noisysine_ridge_train_df.drop(columns=['y']), noisysine_ridge_train_df['y'], 0),\n",
    "                noisysine_ridge_test_df.drop(columns=['y']).sort_values(by=['x']))\n",
    "    \n",
    "    print(\"Degree =\", i, \", r2 = \", sklearn.metrics.r2_score(real_y, pred_y))\n",
    "    \n",
    "    plotly.offline.iplot([\n",
    "        go.Scatter(\n",
    "            y = real_y,\n",
    "            x = noisysine_ridge_test_df.sort_values(by=['x'])['x'],\n",
    "            mode = 'markers+lines',\n",
    "            name = 'real values'\n",
    "        ),\n",
    "        go.Scatter(\n",
    "            y = pred_y,\n",
    "            x = sorted(noisysine_ridge_test_df['x']),\n",
    "            mode = 'markers+lines',\n",
    "            name = 'pred values'\n",
    "        ),\n",
    "        ], filename='real_values.html')"
   ]
  },
  {
   "cell_type": "markdown",
   "metadata": {},
   "source": [
    "А вот тут можно выжать ещё полпроцента."
   ]
  },
  {
   "cell_type": "code",
   "execution_count": 129,
   "metadata": {},
   "outputs": [
    {
     "name": "stdout",
     "output_type": "stream",
     "text": [
      "Degree = 2 , r2 =  0.8803989736804806\n"
     ]
    }
   ],
   "source": [
    "hydrodynamics_ridge_df = hydrodynamics_df.copy()\n",
    "\n",
    "for i in [2]:\n",
    "    columns = hydrodynamics_ridge_df.drop(columns=['y']).columns\n",
    "    \n",
    "    for c1 in columns:\n",
    "        for c2 in columns:\n",
    "            hydrodynamics_ridge_df[c1 + c2] = hydrodynamics_ridge_df[c1] * hydrodynamics_ridge_df[c2]\n",
    "            \n",
    "    hydrodynamics_ridge_train_df = hydrodynamics_ridge_df.loc[hydrodynamics_train.index]\n",
    "    hydrodynamics_ridge_test_df = hydrodynamics_ridge_df.loc[hydrodynamics_test.index]\n",
    "    \n",
    "    real_y = hydrodynamics_ridge_test_df['y']\n",
    "    pred_y = predict_simple_regression(\n",
    "                ridge_regression(hydrodynamics_ridge_train_df.drop(columns=['y']), hydrodynamics_ridge_train_df['y'], 0.000025),\n",
    "                hydrodynamics_ridge_test_df.drop(columns=['y']))\n",
    "    \n",
    "    print(\"Degree =\", i, \", r2 = \", sklearn.metrics.r2_score(real_y, pred_y))"
   ]
  },
  {
   "cell_type": "markdown",
   "metadata": {},
   "source": [
    "### Задание 3"
   ]
  },
  {
   "cell_type": "code",
   "execution_count": 197,
   "metadata": {},
   "outputs": [
    {
     "name": "stdout",
     "output_type": "stream",
     "text": [
      "Degree = 2 , r2 =  0.15782835542253426 features used = 1\n"
     ]
    },
    {
     "data": {
      "application/vnd.plotly.v1+json": {
       "config": {
        "linkText": "Export to plot.ly",
        "plotlyServerURL": "https://plot.ly",
        "showLink": false
       },
       "data": [
        {
         "mode": "markers+lines",
         "name": "real values",
         "type": "scatter",
         "uid": "d6ebeb19-62d2-4812-bcd2-f493b9ad87bf",
         "x": [
          1,
          3,
          5,
          7,
          11,
          20,
          26,
          36
         ],
         "y": [
          0.51179,
          0.9198,
          1.0144,
          0.46667,
          -0.48845,
          0.20948000000000003,
          0.8536600000000001,
          -0.75927
         ]
        },
        {
         "mode": "markers+lines",
         "name": "pred values",
         "type": "scatter",
         "uid": "2c7b1a71-a36f-42d5-abeb-2d6ce210fef5",
         "x": [
          1,
          3,
          5,
          7,
          11,
          20,
          26,
          36
         ],
         "y": [
          0.4800841585016475,
          0.4091555940075919,
          0.34091913034413035,
          0.275374767511263,
          0.1523623443373105,
          -0.08504363315664365,
          -0.21302815047509605,
          -0.37249366272730133
         ]
        }
       ],
       "layout": {}
      },
      "text/html": [
       "<div id=\"b564554a-203b-45a5-99f4-b371040157b4\" style=\"height: 525px; width: 100%;\" class=\"plotly-graph-div\"></div><script type=\"text/javascript\">require([\"plotly\"], function(Plotly) { window.PLOTLYENV=window.PLOTLYENV || {};window.PLOTLYENV.BASE_URL=\"https://plot.ly\";Plotly.newPlot(\"b564554a-203b-45a5-99f4-b371040157b4\", [{\"mode\": \"markers+lines\", \"name\": \"real values\", \"x\": [1, 3, 5, 7, 11, 20, 26, 36], \"y\": [0.51179, 0.9198, 1.0144, 0.46667, -0.48845, 0.20948000000000003, 0.8536600000000001, -0.75927], \"type\": \"scatter\", \"uid\": \"962b42c2-3ee0-4c62-8a39-7a259329a215\"}, {\"mode\": \"markers+lines\", \"name\": \"pred values\", \"x\": [1, 3, 5, 7, 11, 20, 26, 36], \"y\": [0.4800841585016475, 0.4091555940075919, 0.34091913034413035, 0.275374767511263, 0.1523623443373105, -0.08504363315664365, -0.21302815047509605, -0.37249366272730133], \"type\": \"scatter\", \"uid\": \"3776e285-e07b-4f2b-af2f-95825bc91c97\"}], {}, {\"showLink\": false, \"linkText\": \"Export to plot.ly\", \"plotlyServerURL\": \"https://plot.ly\"})});</script><script type=\"text/javascript\">window.addEventListener(\"resize\", function(){window._Plotly.Plots.resize(document.getElementById(\"b564554a-203b-45a5-99f4-b371040157b4\"));});</script>"
      ],
      "text/vnd.plotly.v1+html": [
       "<div id=\"b564554a-203b-45a5-99f4-b371040157b4\" style=\"height: 525px; width: 100%;\" class=\"plotly-graph-div\"></div><script type=\"text/javascript\">require([\"plotly\"], function(Plotly) { window.PLOTLYENV=window.PLOTLYENV || {};window.PLOTLYENV.BASE_URL=\"https://plot.ly\";Plotly.newPlot(\"b564554a-203b-45a5-99f4-b371040157b4\", [{\"mode\": \"markers+lines\", \"name\": \"real values\", \"x\": [1, 3, 5, 7, 11, 20, 26, 36], \"y\": [0.51179, 0.9198, 1.0144, 0.46667, -0.48845, 0.20948000000000003, 0.8536600000000001, -0.75927], \"type\": \"scatter\", \"uid\": \"962b42c2-3ee0-4c62-8a39-7a259329a215\"}, {\"mode\": \"markers+lines\", \"name\": \"pred values\", \"x\": [1, 3, 5, 7, 11, 20, 26, 36], \"y\": [0.4800841585016475, 0.4091555940075919, 0.34091913034413035, 0.275374767511263, 0.1523623443373105, -0.08504363315664365, -0.21302815047509605, -0.37249366272730133], \"type\": \"scatter\", \"uid\": \"3776e285-e07b-4f2b-af2f-95825bc91c97\"}], {}, {\"showLink\": false, \"linkText\": \"Export to plot.ly\", \"plotlyServerURL\": \"https://plot.ly\"})});</script><script type=\"text/javascript\">window.addEventListener(\"resize\", function(){window._Plotly.Plots.resize(document.getElementById(\"b564554a-203b-45a5-99f4-b371040157b4\"));});</script>"
      ]
     },
     "metadata": {},
     "output_type": "display_data"
    },
    {
     "name": "stdout",
     "output_type": "stream",
     "text": [
      "Degree = 3 , r2 =  0.35174459288731696 features used = 1\n"
     ]
    },
    {
     "data": {
      "application/vnd.plotly.v1+json": {
       "config": {
        "linkText": "Export to plot.ly",
        "plotlyServerURL": "https://plot.ly",
        "showLink": false
       },
       "data": [
        {
         "mode": "markers+lines",
         "name": "real values",
         "type": "scatter",
         "uid": "c972fd2c-b2f9-4b92-bd74-4dfc8d208c13",
         "x": [
          1,
          3,
          5,
          7,
          11,
          20,
          26,
          36
         ],
         "y": [
          0.51179,
          0.9198,
          1.0144,
          0.46667,
          -0.48845,
          0.20948000000000003,
          0.8536600000000001,
          -0.75927
         ]
        },
        {
         "mode": "markers+lines",
         "name": "pred values",
         "type": "scatter",
         "uid": "6685356d-9acd-45eb-ba06-216df60d72b3",
         "x": [
          1,
          3,
          5,
          7,
          11,
          20,
          26,
          36
         ],
         "y": [
          0.8903135628741932,
          0.549937624241,
          0.28847454015836926,
          0.09681959922594585,
          -0.11348469878970024,
          -0.07615815863553776,
          0.01707178912909324,
          -0.46476764767171463
         ]
        }
       ],
       "layout": {}
      },
      "text/html": [
       "<div id=\"efb5dbbe-d373-4519-aa3f-239c19ae9a86\" style=\"height: 525px; width: 100%;\" class=\"plotly-graph-div\"></div><script type=\"text/javascript\">require([\"plotly\"], function(Plotly) { window.PLOTLYENV=window.PLOTLYENV || {};window.PLOTLYENV.BASE_URL=\"https://plot.ly\";Plotly.newPlot(\"efb5dbbe-d373-4519-aa3f-239c19ae9a86\", [{\"mode\": \"markers+lines\", \"name\": \"real values\", \"x\": [1, 3, 5, 7, 11, 20, 26, 36], \"y\": [0.51179, 0.9198, 1.0144, 0.46667, -0.48845, 0.20948000000000003, 0.8536600000000001, -0.75927], \"type\": \"scatter\", \"uid\": \"5b24478f-af7b-43a3-9215-dc2014bebef7\"}, {\"mode\": \"markers+lines\", \"name\": \"pred values\", \"x\": [1, 3, 5, 7, 11, 20, 26, 36], \"y\": [0.8903135628741932, 0.549937624241, 0.28847454015836926, 0.09681959922594585, -0.11348469878970024, -0.07615815863553776, 0.01707178912909324, -0.46476764767171463], \"type\": \"scatter\", \"uid\": \"6672bfe7-61ec-45cd-bc1e-2304151ffa94\"}], {}, {\"showLink\": false, \"linkText\": \"Export to plot.ly\", \"plotlyServerURL\": \"https://plot.ly\"})});</script><script type=\"text/javascript\">window.addEventListener(\"resize\", function(){window._Plotly.Plots.resize(document.getElementById(\"efb5dbbe-d373-4519-aa3f-239c19ae9a86\"));});</script>"
      ],
      "text/vnd.plotly.v1+html": [
       "<div id=\"efb5dbbe-d373-4519-aa3f-239c19ae9a86\" style=\"height: 525px; width: 100%;\" class=\"plotly-graph-div\"></div><script type=\"text/javascript\">require([\"plotly\"], function(Plotly) { window.PLOTLYENV=window.PLOTLYENV || {};window.PLOTLYENV.BASE_URL=\"https://plot.ly\";Plotly.newPlot(\"efb5dbbe-d373-4519-aa3f-239c19ae9a86\", [{\"mode\": \"markers+lines\", \"name\": \"real values\", \"x\": [1, 3, 5, 7, 11, 20, 26, 36], \"y\": [0.51179, 0.9198, 1.0144, 0.46667, -0.48845, 0.20948000000000003, 0.8536600000000001, -0.75927], \"type\": \"scatter\", \"uid\": \"5b24478f-af7b-43a3-9215-dc2014bebef7\"}, {\"mode\": \"markers+lines\", \"name\": \"pred values\", \"x\": [1, 3, 5, 7, 11, 20, 26, 36], \"y\": [0.8903135628741932, 0.549937624241, 0.28847454015836926, 0.09681959922594585, -0.11348469878970024, -0.07615815863553776, 0.01707178912909324, -0.46476764767171463], \"type\": \"scatter\", \"uid\": \"6672bfe7-61ec-45cd-bc1e-2304151ffa94\"}], {}, {\"showLink\": false, \"linkText\": \"Export to plot.ly\", \"plotlyServerURL\": \"https://plot.ly\"})});</script><script type=\"text/javascript\">window.addEventListener(\"resize\", function(){window._Plotly.Plots.resize(document.getElementById(\"efb5dbbe-d373-4519-aa3f-239c19ae9a86\"));});</script>"
      ]
     },
     "metadata": {},
     "output_type": "display_data"
    },
    {
     "name": "stdout",
     "output_type": "stream",
     "text": [
      "Degree = 4 , r2 =  0.17515584186320698 features used = 2\n"
     ]
    },
    {
     "data": {
      "application/vnd.plotly.v1+json": {
       "config": {
        "linkText": "Export to plot.ly",
        "plotlyServerURL": "https://plot.ly",
        "showLink": false
       },
       "data": [
        {
         "mode": "markers+lines",
         "name": "real values",
         "type": "scatter",
         "uid": "5841d2f2-fb3d-43ba-a4f4-6983788726f2",
         "x": [
          1,
          3,
          5,
          7,
          11,
          20,
          26,
          36
         ],
         "y": [
          0.51179,
          0.9198,
          1.0144,
          0.46667,
          -0.48845,
          0.20948000000000003,
          0.8536600000000001,
          -0.75927
         ]
        },
        {
         "mode": "markers+lines",
         "name": "pred values",
         "type": "scatter",
         "uid": "ebdb1271-2872-46e7-857d-f752e225f61f",
         "x": [
          1,
          3,
          5,
          7,
          11,
          20,
          26,
          36
         ],
         "y": [
          1.05142364916709,
          0.46613735691378255,
          0.09019831774634568,
          -0.122132455307844,
          -0.21572709913090282,
          0.08782505964477494,
          0.0479508608782524,
          -0.5393872220662459
         ]
        }
       ],
       "layout": {}
      },
      "text/html": [
       "<div id=\"9057886f-6ded-405f-8977-945225bb3c17\" style=\"height: 525px; width: 100%;\" class=\"plotly-graph-div\"></div><script type=\"text/javascript\">require([\"plotly\"], function(Plotly) { window.PLOTLYENV=window.PLOTLYENV || {};window.PLOTLYENV.BASE_URL=\"https://plot.ly\";Plotly.newPlot(\"9057886f-6ded-405f-8977-945225bb3c17\", [{\"mode\": \"markers+lines\", \"name\": \"real values\", \"x\": [1, 3, 5, 7, 11, 20, 26, 36], \"y\": [0.51179, 0.9198, 1.0144, 0.46667, -0.48845, 0.20948000000000003, 0.8536600000000001, -0.75927], \"type\": \"scatter\", \"uid\": \"9d22a79f-c7c9-40d4-9f8c-1ce61cf89e25\"}, {\"mode\": \"markers+lines\", \"name\": \"pred values\", \"x\": [1, 3, 5, 7, 11, 20, 26, 36], \"y\": [1.05142364916709, 0.46613735691378255, 0.09019831774634568, -0.122132455307844, -0.21572709913090282, 0.08782505964477494, 0.0479508608782524, -0.5393872220662459], \"type\": \"scatter\", \"uid\": \"91138388-03be-4d39-abdb-f2dc94f1372c\"}], {}, {\"showLink\": false, \"linkText\": \"Export to plot.ly\", \"plotlyServerURL\": \"https://plot.ly\"})});</script><script type=\"text/javascript\">window.addEventListener(\"resize\", function(){window._Plotly.Plots.resize(document.getElementById(\"9057886f-6ded-405f-8977-945225bb3c17\"));});</script>"
      ],
      "text/vnd.plotly.v1+html": [
       "<div id=\"9057886f-6ded-405f-8977-945225bb3c17\" style=\"height: 525px; width: 100%;\" class=\"plotly-graph-div\"></div><script type=\"text/javascript\">require([\"plotly\"], function(Plotly) { window.PLOTLYENV=window.PLOTLYENV || {};window.PLOTLYENV.BASE_URL=\"https://plot.ly\";Plotly.newPlot(\"9057886f-6ded-405f-8977-945225bb3c17\", [{\"mode\": \"markers+lines\", \"name\": \"real values\", \"x\": [1, 3, 5, 7, 11, 20, 26, 36], \"y\": [0.51179, 0.9198, 1.0144, 0.46667, -0.48845, 0.20948000000000003, 0.8536600000000001, -0.75927], \"type\": \"scatter\", \"uid\": \"9d22a79f-c7c9-40d4-9f8c-1ce61cf89e25\"}, {\"mode\": \"markers+lines\", \"name\": \"pred values\", \"x\": [1, 3, 5, 7, 11, 20, 26, 36], \"y\": [1.05142364916709, 0.46613735691378255, 0.09019831774634568, -0.122132455307844, -0.21572709913090282, 0.08782505964477494, 0.0479508608782524, -0.5393872220662459], \"type\": \"scatter\", \"uid\": \"91138388-03be-4d39-abdb-f2dc94f1372c\"}], {}, {\"showLink\": false, \"linkText\": \"Export to plot.ly\", \"plotlyServerURL\": \"https://plot.ly\"})});</script><script type=\"text/javascript\">window.addEventListener(\"resize\", function(){window._Plotly.Plots.resize(document.getElementById(\"9057886f-6ded-405f-8977-945225bb3c17\"));});</script>"
      ]
     },
     "metadata": {},
     "output_type": "display_data"
    },
    {
     "name": "stdout",
     "output_type": "stream",
     "text": [
      "Degree = 5 , r2 =  0.7906390417755521 features used = 3\n"
     ]
    },
    {
     "data": {
      "application/vnd.plotly.v1+json": {
       "config": {
        "linkText": "Export to plot.ly",
        "plotlyServerURL": "https://plot.ly",
        "showLink": false
       },
       "data": [
        {
         "mode": "markers+lines",
         "name": "real values",
         "type": "scatter",
         "uid": "19c783bd-1aca-412a-a60c-781ed6ea329b",
         "x": [
          1,
          3,
          5,
          7,
          11,
          20,
          26,
          36
         ],
         "y": [
          0.51179,
          0.9198,
          1.0144,
          0.46667,
          -0.48845,
          0.20948000000000003,
          0.8536600000000001,
          -0.75927
         ]
        },
        {
         "mode": "markers+lines",
         "name": "pred values",
         "type": "scatter",
         "uid": "fd1fe2c4-646e-4b28-811b-1a2303ae2f65",
         "x": [
          1,
          3,
          5,
          7,
          11,
          20,
          26,
          36
         ],
         "y": [
          0.9452391506126132,
          1.329762290030825,
          1.0313653628268977,
          0.45207240822798694,
          -0.5528332419555437,
          0.17087290599240296,
          0.6938858666373511,
          -1.2522330066722853
         ]
        }
       ],
       "layout": {}
      },
      "text/html": [
       "<div id=\"566f4e08-1c91-406f-8b33-366d7fbb539d\" style=\"height: 525px; width: 100%;\" class=\"plotly-graph-div\"></div><script type=\"text/javascript\">require([\"plotly\"], function(Plotly) { window.PLOTLYENV=window.PLOTLYENV || {};window.PLOTLYENV.BASE_URL=\"https://plot.ly\";Plotly.newPlot(\"566f4e08-1c91-406f-8b33-366d7fbb539d\", [{\"mode\": \"markers+lines\", \"name\": \"real values\", \"x\": [1, 3, 5, 7, 11, 20, 26, 36], \"y\": [0.51179, 0.9198, 1.0144, 0.46667, -0.48845, 0.20948000000000003, 0.8536600000000001, -0.75927], \"type\": \"scatter\", \"uid\": \"1c2b7660-dce1-4437-8388-496c930fdd57\"}, {\"mode\": \"markers+lines\", \"name\": \"pred values\", \"x\": [1, 3, 5, 7, 11, 20, 26, 36], \"y\": [0.9452391506126132, 1.329762290030825, 1.0313653628268977, 0.45207240822798694, -0.5528332419555437, 0.17087290599240296, 0.6938858666373511, -1.2522330066722853], \"type\": \"scatter\", \"uid\": \"6a25caa3-0845-474e-ac92-926fa00369c8\"}], {}, {\"showLink\": false, \"linkText\": \"Export to plot.ly\", \"plotlyServerURL\": \"https://plot.ly\"})});</script><script type=\"text/javascript\">window.addEventListener(\"resize\", function(){window._Plotly.Plots.resize(document.getElementById(\"566f4e08-1c91-406f-8b33-366d7fbb539d\"));});</script>"
      ],
      "text/vnd.plotly.v1+html": [
       "<div id=\"566f4e08-1c91-406f-8b33-366d7fbb539d\" style=\"height: 525px; width: 100%;\" class=\"plotly-graph-div\"></div><script type=\"text/javascript\">require([\"plotly\"], function(Plotly) { window.PLOTLYENV=window.PLOTLYENV || {};window.PLOTLYENV.BASE_URL=\"https://plot.ly\";Plotly.newPlot(\"566f4e08-1c91-406f-8b33-366d7fbb539d\", [{\"mode\": \"markers+lines\", \"name\": \"real values\", \"x\": [1, 3, 5, 7, 11, 20, 26, 36], \"y\": [0.51179, 0.9198, 1.0144, 0.46667, -0.48845, 0.20948000000000003, 0.8536600000000001, -0.75927], \"type\": \"scatter\", \"uid\": \"1c2b7660-dce1-4437-8388-496c930fdd57\"}, {\"mode\": \"markers+lines\", \"name\": \"pred values\", \"x\": [1, 3, 5, 7, 11, 20, 26, 36], \"y\": [0.9452391506126132, 1.329762290030825, 1.0313653628268977, 0.45207240822798694, -0.5528332419555437, 0.17087290599240296, 0.6938858666373511, -1.2522330066722853], \"type\": \"scatter\", \"uid\": \"6a25caa3-0845-474e-ac92-926fa00369c8\"}], {}, {\"showLink\": false, \"linkText\": \"Export to plot.ly\", \"plotlyServerURL\": \"https://plot.ly\"})});</script><script type=\"text/javascript\">window.addEventListener(\"resize\", function(){window._Plotly.Plots.resize(document.getElementById(\"566f4e08-1c91-406f-8b33-366d7fbb539d\"));});</script>"
      ]
     },
     "metadata": {},
     "output_type": "display_data"
    }
   ],
   "source": [
    "noisysine_lasso_df = noisysine_df.copy()\n",
    "\n",
    "for i in range(2, 6):\n",
    "    noisysine_lasso_df['x' + str(i)] = noisysine_lasso_df['x'] ** i\n",
    "    noisysine_lasso_train_df = noisysine_lasso_df.loc[noisysine_train.index]\n",
    "    noisysine_lasso_test_df = noisysine_lasso_df.loc[noisysine_test.index]\n",
    "    \n",
    "    model = sklearn.linear_model.Lasso(alpha=0.002, max_iter=10000000, selection='cyclic')\n",
    "    model.fit(noisysine_lasso_train_df.drop(columns=['y']), noisysine_lasso_train_df['y'])\n",
    "    \n",
    "    real_y = noisysine_lasso_test_df.sort_values(by=['x'])['y']\n",
    "    pred_y = model.predict(noisysine_lasso_test_df.drop(columns=['y']).sort_values(by=['x']))\n",
    "    \n",
    "    print(\"Degree =\", i, \", r2 = \", sklearn.metrics.r2_score(real_y, pred_y),\n",
    "          \"features used =\", sum(map(lambda x: 1 if x > 0 else 0, model.coef_)))\n",
    "    \n",
    "    plotly.offline.iplot([\n",
    "        go.Scatter(\n",
    "            y = real_y,\n",
    "            x = noisysine_lasso_test_df.sort_values(by=['x'])['x'],\n",
    "            mode = 'markers+lines',\n",
    "            name = 'real values'\n",
    "        ),\n",
    "        go.Scatter(\n",
    "            y = pred_y,\n",
    "            x = sorted(noisysine_lasso_test_df['x']),\n",
    "            mode = 'markers+lines',\n",
    "            name = 'pred values'\n",
    "        ),\n",
    "        ], filename='real_values.html')"
   ]
  },
  {
   "cell_type": "code",
   "execution_count": 198,
   "metadata": {},
   "outputs": [
    {
     "name": "stdout",
     "output_type": "stream",
     "text": [
      "Degree = 2 , r2 =  0.8903741946774509 features used = 8\n"
     ]
    }
   ],
   "source": [
    "hydrodynamics_lasso_df = hydrodynamics_df.copy()\n",
    "\n",
    "for i in [2]:\n",
    "    columns = hydrodynamics_lasso_df.drop(columns=['y']).columns\n",
    "    \n",
    "    for c1 in columns:\n",
    "        for c2 in columns:\n",
    "            hydrodynamics_lasso_df[c1 + c2] = hydrodynamics_lasso_df[c1] * hydrodynamics_lasso_df[c2]\n",
    "            \n",
    "    hydrodynamics_lasso_train_df = hydrodynamics_lasso_df.loc[hydrodynamics_train.index]\n",
    "    hydrodynamics_lasso_test_df = hydrodynamics_lasso_df.loc[hydrodynamics_test.index]\n",
    "    \n",
    "    model = sklearn.linear_model.Lasso(alpha=0.0072, max_iter=100000, selection='cyclic')\n",
    "    model.fit(hydrodynamics_lasso_train_df.drop(columns=['y']), hydrodynamics_lasso_train_df['y'])        \n",
    "    \n",
    "    real_y = hydrodynamics_lasso_test_df['y']\n",
    "    pred_y = model.predict(hydrodynamics_lasso_test_df.drop(columns=['y']))\n",
    "\n",
    "    \n",
    "    print(\"Degree =\", i, \", r2 = \", sklearn.metrics.r2_score(real_y, pred_y), \n",
    "          \"features used =\", sum(map(lambda x: 1 if x > 0 else 0, model.coef_)))"
   ]
  },
  {
   "cell_type": "markdown",
   "metadata": {},
   "source": [
    "### Задание 4"
   ]
  },
  {
   "cell_type": "code",
   "execution_count": 200,
   "metadata": {},
   "outputs": [],
   "source": [
    "import random"
   ]
  },
  {
   "cell_type": "code",
   "execution_count": 199,
   "metadata": {},
   "outputs": [],
   "source": [
    "tsp_df = pd.read_csv('tsp.csv', sep=',', header=0)"
   ]
  },
  {
   "cell_type": "code",
   "execution_count": 204,
   "metadata": {},
   "outputs": [],
   "source": [
    "def draw_path(sequence, df):\n",
    "    xs = []\n",
    "    ys = []\n",
    "    for j in sequence:\n",
    "        cur_x, cur_y = df.iloc[j]['x'], df.iloc[j]['y']\n",
    "        xs.append(cur_x)\n",
    "        xs.append(cur_x)\n",
    "        if ys:\n",
    "            ys.append(cur_y)\n",
    "        ys.append(cur_y)\n",
    "        \n",
    "    plotly.offline.iplot([\n",
    "        go.Scatter(\n",
    "            y = ys,\n",
    "            x = xs[:-1],\n",
    "            mode = 'markers+lines',\n",
    "            name = 'path'\n",
    "        )\n",
    "        ], filename='real_values.html')"
   ]
  },
  {
   "cell_type": "code",
   "execution_count": 201,
   "metadata": {},
   "outputs": [],
   "source": [
    "sequence = list(range(len(tsp_df.index)))\n",
    "mk_best_path = None\n",
    "mk_best_length = None\n",
    "\n",
    "for i in range(1000):\n",
    "    random.shuffle(sequence)\n",
    "    cur_length = 0\n",
    "    last_x, last_y = None, None\n",
    "    for j in sequence:\n",
    "        cur_x, cur_y = tsp_df.iloc[j]['x'], tsp_df.iloc[j]['y']\n",
    "        if (last_x is not None and last_y is not None):\n",
    "            cur_length += abs(last_x - cur_x) + abs(last_y - cur_y)\n",
    "        last_x, last_y = cur_x, cur_y\n",
    "    if (mk_best_length is None or mk_best_length > cur_length):\n",
    "        mk_best_length = cur_length\n",
    "        mk_best_path = list(sequence)"
   ]
  },
  {
   "cell_type": "code",
   "execution_count": 205,
   "metadata": {},
   "outputs": [
    {
     "name": "stdout",
     "output_type": "stream",
     "text": [
      "Best length: 30485\n"
     ]
    },
    {
     "data": {
      "application/vnd.plotly.v1+json": {
       "config": {
        "linkText": "Export to plot.ly",
        "plotlyServerURL": "https://plot.ly",
        "showLink": false
       },
       "data": [
        {
         "mode": "markers+lines",
         "name": "path",
         "type": "scatter",
         "uid": "2c0c213c-4537-4bdf-ac2b-fdde82333979",
         "x": [
          345,
          345,
          660,
          660,
          480,
          480,
          565,
          565,
          1220,
          1220,
          650,
          650,
          560,
          560,
          830,
          830,
          415,
          415,
          555,
          555,
          720,
          720,
          475,
          475,
          595,
          595,
          25,
          25,
          25,
          25,
          95,
          95,
          520,
          520,
          700,
          700,
          575,
          575,
          945,
          945,
          700,
          700,
          770,
          770,
          510,
          510,
          845,
          845,
          845,
          845,
          830,
          830,
          1740,
          1740,
          580,
          580,
          1150,
          1150,
          880,
          880,
          685,
          685,
          685,
          685,
          420,
          420,
          300,
          300,
          725,
          725,
          835,
          835,
          1605,
          1605,
          1465,
          1465,
          795,
          795,
          1250,
          1250,
          605,
          605,
          1320,
          1320,
          1215,
          1215,
          525,
          525,
          875,
          875,
          760,
          760,
          410,
          410,
          975,
          975,
          1530,
          1530,
          1170,
          1170,
          1340,
          1340,
          145
         ],
         "y": [
          750,
          180,
          180,
          415,
          415,
          575,
          575,
          580,
          580,
          1130,
          1130,
          365,
          365,
          610,
          610,
          635,
          635,
          815,
          815,
          635,
          635,
          960,
          960,
          360,
          360,
          230,
          230,
          185,
          185,
          260,
          260,
          585,
          585,
          500,
          500,
          665,
          665,
          685,
          685,
          580,
          580,
          610,
          610,
          875,
          875,
          655,
          655,
          680,
          680,
          485,
          485,
          245,
          245,
          1175,
          1175,
          1160,
          1160,
          660,
          660,
          595,
          595,
          610,
          610,
          555,
          555,
          465,
          465,
          370,
          370,
          625,
          625,
          620,
          620,
          200,
          200,
          645,
          645,
          400,
          400,
          625,
          625,
          315,
          315,
          245,
          245,
          1000,
          1000,
          920,
          920,
          650,
          650,
          250,
          250,
          580,
          580,
          5,
          5,
          65,
          65,
          725,
          725,
          665,
          665
         ]
        }
       ],
       "layout": {}
      },
      "text/html": [
       "<div id=\"b6e9fe58-4a0c-4a95-8a03-9f44119364f6\" style=\"height: 525px; width: 100%;\" class=\"plotly-graph-div\"></div><script type=\"text/javascript\">require([\"plotly\"], function(Plotly) { window.PLOTLYENV=window.PLOTLYENV || {};window.PLOTLYENV.BASE_URL=\"https://plot.ly\";Plotly.newPlot(\"b6e9fe58-4a0c-4a95-8a03-9f44119364f6\", [{\"mode\": \"markers+lines\", \"name\": \"path\", \"x\": [345, 345, 660, 660, 480, 480, 565, 565, 1220, 1220, 650, 650, 560, 560, 830, 830, 415, 415, 555, 555, 720, 720, 475, 475, 595, 595, 25, 25, 25, 25, 95, 95, 520, 520, 700, 700, 575, 575, 945, 945, 700, 700, 770, 770, 510, 510, 845, 845, 845, 845, 830, 830, 1740, 1740, 580, 580, 1150, 1150, 880, 880, 685, 685, 685, 685, 420, 420, 300, 300, 725, 725, 835, 835, 1605, 1605, 1465, 1465, 795, 795, 1250, 1250, 605, 605, 1320, 1320, 1215, 1215, 525, 525, 875, 875, 760, 760, 410, 410, 975, 975, 1530, 1530, 1170, 1170, 1340, 1340, 145], \"y\": [750, 180, 180, 415, 415, 575, 575, 580, 580, 1130, 1130, 365, 365, 610, 610, 635, 635, 815, 815, 635, 635, 960, 960, 360, 360, 230, 230, 185, 185, 260, 260, 585, 585, 500, 500, 665, 665, 685, 685, 580, 580, 610, 610, 875, 875, 655, 655, 680, 680, 485, 485, 245, 245, 1175, 1175, 1160, 1160, 660, 660, 595, 595, 610, 610, 555, 555, 465, 465, 370, 370, 625, 625, 620, 620, 200, 200, 645, 645, 400, 400, 625, 625, 315, 315, 245, 245, 1000, 1000, 920, 920, 650, 650, 250, 250, 580, 580, 5, 5, 65, 65, 725, 725, 665, 665], \"type\": \"scatter\", \"uid\": \"e508a9bf-48d5-4264-868c-e2172546ddf5\"}], {}, {\"showLink\": false, \"linkText\": \"Export to plot.ly\", \"plotlyServerURL\": \"https://plot.ly\"})});</script><script type=\"text/javascript\">window.addEventListener(\"resize\", function(){window._Plotly.Plots.resize(document.getElementById(\"b6e9fe58-4a0c-4a95-8a03-9f44119364f6\"));});</script>"
      ],
      "text/vnd.plotly.v1+html": [
       "<div id=\"b6e9fe58-4a0c-4a95-8a03-9f44119364f6\" style=\"height: 525px; width: 100%;\" class=\"plotly-graph-div\"></div><script type=\"text/javascript\">require([\"plotly\"], function(Plotly) { window.PLOTLYENV=window.PLOTLYENV || {};window.PLOTLYENV.BASE_URL=\"https://plot.ly\";Plotly.newPlot(\"b6e9fe58-4a0c-4a95-8a03-9f44119364f6\", [{\"mode\": \"markers+lines\", \"name\": \"path\", \"x\": [345, 345, 660, 660, 480, 480, 565, 565, 1220, 1220, 650, 650, 560, 560, 830, 830, 415, 415, 555, 555, 720, 720, 475, 475, 595, 595, 25, 25, 25, 25, 95, 95, 520, 520, 700, 700, 575, 575, 945, 945, 700, 700, 770, 770, 510, 510, 845, 845, 845, 845, 830, 830, 1740, 1740, 580, 580, 1150, 1150, 880, 880, 685, 685, 685, 685, 420, 420, 300, 300, 725, 725, 835, 835, 1605, 1605, 1465, 1465, 795, 795, 1250, 1250, 605, 605, 1320, 1320, 1215, 1215, 525, 525, 875, 875, 760, 760, 410, 410, 975, 975, 1530, 1530, 1170, 1170, 1340, 1340, 145], \"y\": [750, 180, 180, 415, 415, 575, 575, 580, 580, 1130, 1130, 365, 365, 610, 610, 635, 635, 815, 815, 635, 635, 960, 960, 360, 360, 230, 230, 185, 185, 260, 260, 585, 585, 500, 500, 665, 665, 685, 685, 580, 580, 610, 610, 875, 875, 655, 655, 680, 680, 485, 485, 245, 245, 1175, 1175, 1160, 1160, 660, 660, 595, 595, 610, 610, 555, 555, 465, 465, 370, 370, 625, 625, 620, 620, 200, 200, 645, 645, 400, 400, 625, 625, 315, 315, 245, 245, 1000, 1000, 920, 920, 650, 650, 250, 250, 580, 580, 5, 5, 65, 65, 725, 725, 665, 665], \"type\": \"scatter\", \"uid\": \"e508a9bf-48d5-4264-868c-e2172546ddf5\"}], {}, {\"showLink\": false, \"linkText\": \"Export to plot.ly\", \"plotlyServerURL\": \"https://plot.ly\"})});</script><script type=\"text/javascript\">window.addEventListener(\"resize\", function(){window._Plotly.Plots.resize(document.getElementById(\"b6e9fe58-4a0c-4a95-8a03-9f44119364f6\"));});</script>"
      ]
     },
     "metadata": {},
     "output_type": "display_data"
    }
   ],
   "source": [
    "assert mk_best_path is not None\n",
    "print(\"Best length:\", mk_best_length)\n",
    "draw_path(mk_best_path, tsp_df)"
   ]
  },
  {
   "cell_type": "markdown",
   "metadata": {},
   "source": [
    "### Задание 5"
   ]
  },
  {
   "cell_type": "code",
   "execution_count": null,
   "metadata": {},
   "outputs": [],
   "source": [
    "rw_best_path = None\n",
    "rw_best_length = None\n",
    "\n",
    "def dist_to(x, y, j):\n",
    "    return abs(tsp_df.iloc[j]['x'] - x) + abs(tsp_df.iloc[j]['y'] - y)\n",
    "\n",
    "for i in range(1000):\n",
    "    sz = len(tsp_df.index)\n",
    "    not_visited = set(range(sz))\n",
    "    cur_length = 0\n",
    "    last_x, last_y = None, None\n",
    "    sequence = []\n",
    "    for _ in range(sz):\n",
    "        vs = list(not_visited)\n",
    "        j = None\n",
    "        if (last_x is not None and last_y is not None):\n",
    "            j = random.choices(vs, weights=list(map(lambda x: 1.0 / dist_to(last_x, last_y, x), vs)))[0]\n",
    "        else:\n",
    "            j = random.choice(vs)    \n",
    "        not_visited.remove(j)\n",
    "        sequence.append(j)\n",
    "        cur_x, cur_y = tsp_df.iloc[j]['x'], tsp_df.iloc[j]['y']\n",
    "        if (last_x is not None and last_y is not None):\n",
    "            cur_length += abs(last_x - cur_x) + abs(last_y - cur_y)\n",
    "        last_x, last_y = cur_x, cur_y\n",
    "        \n",
    "    if (rw_best_length is None or rw_best_length > cur_length):\n",
    "        rw_best_length = cur_length\n",
    "        rw_best_path = sequence"
   ]
  },
  {
   "cell_type": "code",
   "execution_count": null,
   "metadata": {},
   "outputs": [],
   "source": [
    "assert rw_best_path is not None\n",
    "print(\"Best length:\", rw_best_length)\n",
    "draw_path(rw_best_path, tsp_df)"
   ]
  },
  {
   "cell_type": "markdown",
   "metadata": {},
   "source": [
    "### Задание 6"
   ]
  },
  {
   "cell_type": "code",
   "execution_count": null,
   "metadata": {},
   "outputs": [],
   "source": [
    "hc_best_path = None\n",
    "hc_best_length = None\n",
    "\n",
    "def dist_to(x, y, j):\n",
    "    return abs(tsp_df.iloc[j]['x'] - x) + abs(tsp_df.iloc[j]['y'] - y)\n",
    "\n",
    "for i in range(len(tsp_df.index)):\n",
    "    not_visited = set(range(sz))\n",
    "    not_visited.remove(i)\n",
    "    \n",
    "    cur_length = 0\n",
    "    last_x, last_y = None, None\n",
    "    for _ in range(sz):\n",
    "        new_x, new_y = None, None\n",
    "        for j in not_visited:\n",
    "            if (new_x is not None and new_y i)\n",
    "        not_visited.remove(j)\n",
    "        \n",
    "        cur_x, cur_y = tsp_df.iloc[j]['x'], tsp_df.iloc[j]['y']\n",
    "        if (last_x is not None and last_y is not None):\n",
    "            cur_length += abs(last_x - cur_x) + abs(last_y - cur_y)\n",
    "        last_x, last_y = cur_x, cur_y\n",
    "        \n",
    "    if (rw_best_length is None or rw_best_length > cur_length):\n",
    "        rw_best_length = cur_length\n",
    "        rw_best_path = list(sequence)"
   ]
  }
 ],
 "metadata": {
  "kernelspec": {
   "display_name": "Python 3",
   "language": "python",
   "name": "python3"
  },
  "language_info": {
   "codemirror_mode": {
    "name": "ipython",
    "version": 3
   },
   "file_extension": ".py",
   "mimetype": "text/x-python",
   "name": "python",
   "nbconvert_exporter": "python",
   "pygments_lexer": "ipython3",
   "version": "3.6.7"
  }
 },
 "nbformat": 4,
 "nbformat_minor": 2
}
